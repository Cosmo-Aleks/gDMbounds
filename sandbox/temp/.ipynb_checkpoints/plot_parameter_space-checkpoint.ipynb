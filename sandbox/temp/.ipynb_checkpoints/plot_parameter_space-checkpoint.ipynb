{
 "cells": [
  {
   "cell_type": "code",
   "execution_count": null,
   "id": "55f9c774",
   "metadata": {},
   "outputs": [],
   "source": [
    "from astropy.io import ascii\n",
    "\n",
    "import matplotlib as mpl\n",
    "from matplotlib import pyplot as plt\n",
    "from matplotlib import cm\n",
    "\n",
    "import numpy as np\n",
    "import astropy.units as u\n",
    "\n",
    "from scipy.interpolate import UnivariateSpline\n",
    "from scipy.ndimage import gaussian_filter1d\n",
    "from scipy.interpolate import interp1d\n",
    "from scipy.interpolate import make_interp_spline, BSpline\n",
    "import palettable\n",
    "\n",
    "import ipywidgets as widgets\n",
    "from ipywidgets import interactive\n",
    "import logging\n",
    "import pandas as pd\n",
    "\n",
    "import glob\n",
    "import random\n",
    "\n",
    "from code.aux import *"
   ]
  },
  {
   "cell_type": "code",
   "execution_count": null,
   "id": "184f41ea",
   "metadata": {},
   "outputs": [],
   "source": [
    "style = PlottingStyle('antique')"
   ]
  },
  {
   "cell_type": "code",
   "execution_count": null,
   "id": "f06ea056",
   "metadata": {},
   "outputs": [],
   "source": [
    "instrument_dict = table_to_dict(ascii.read(\"./legend_instruments.ecsv\"),'shortname', 'longname')\n",
    "channel_dict = table_to_dict(ascii.read(\"./legend_channels.ecsv\"),'shortname', 'latex')\n",
    "target_dict = table_to_dict(ascii.read(\"./legend_targets.ecsv\"),'shortname', 'longname')"
   ]
  },
  {
   "cell_type": "code",
   "execution_count": 58,
   "id": "e76fcf24",
   "metadata": {},
   "outputs": [
    {
     "data": {
      "text/plain": [
       "<matplotlib.collections.PolyCollection at 0x7fb09bd17460>"
      ]
     },
     "execution_count": 58,
     "metadata": {},
     "output_type": "execute_result"
    },
    {
     "data": {
      "image/png": "[encoded data removed]",
      "text/plain": [
       "<Figure size 432x288 with 1 Axes>"
      ]
     },
     "metadata": {
      "needs_background": "light"
     },
     "output_type": "display_data"
    }
   ],
   "source": [
    "import pandas as pd\n",
    "import matplotlib.pyplot as plt\n",
    "import numpy as np\n",
    "from scipy.spatial import ConvexHull\n",
    "\n",
    "\n",
    "\n",
    "df = pd.read_csv(\"./eff_gambit2.ecsv\", header=None, usecols=[0,1], sep=' ')\n",
    "mass = df[0]\n",
    "sigmav = df[1]\n",
    "\n",
    "fig = plt.figure()\n",
    "ax= fig.add_subplot ( 111 )\n",
    "\n",
    "ax.loglog(mass,sigmav,'s')\n",
    "ax.set_ylim(1e-42,1e-25)\n",
    "ax.set_xlim(10,1e5)\n",
    "#ax.text(20, -200, 'HOW TO FILL HERE?', fontsize=30)\n",
    "\n",
    "#plt.show()\n",
    "\n",
    "#plt.loglog(mass,sigmav)\n",
    "ax.fill_between(mass,sigmav,interpolate=\"True\")\n",
    "\n",
    "#pts = np.array(df)\n",
    "#hull = ConvexHull(pts)\n",
    "#plt.fill(pts[hull.vertices,0], pts[hull.vertices,1],'red',alpha=0.5)\n",
    "#plt.show()"
   ]
  },
  {
   "cell_type": "code",
   "execution_count": null,
   "id": "3da260b9-1929-47c2-9ea2-9cd42cd21fdf",
   "metadata": {},
   "outputs": [],
   "source": [
    "pol = Polygon([(0, 7),\n",
    "   (1, 2),\n",
    "   (6, 0),\n",
    "   (4, 8) ])\n",
    "x, y = pol.exterior.xy\n",
    "\n",
    "# PLot\n",
    "\n",
    "plt.plot(x, y)\n",
    "\n",
    "# Fill between\n",
    "\n",
    "plt.fill_between(x, y, facecolor='thistle')\n",
    "\n",
    "# Display\n",
    "\n",
    "plt.show()"
   ]
  },
  {
   "cell_type": "code",
   "execution_count": null,
   "id": "05c225d8",
   "metadata": {},
   "outputs": [],
   "source": [
    "import numpy as np\n",
    "from scipy.spatial import ConvexHull\n",
    "import matplotlib.pyplot as plt\n",
    "\n",
    "pts1 = [[0.0, 10.0], [0.0, 20.0], [10.0, 0.0], [20.0, 0.0]]\n",
    "\n",
    "pts = np.array(pts1)\n",
    "\n",
    "hull = ConvexHull(pts)\n",
    "\n",
    "plt.fill(pts[hull.vertices,0], pts[hull.vertices,1],'red',alpha=0.5)\n",
    "plt.show()\n",
    "\n"
   ]
  },
  {
   "cell_type": "code",
   "execution_count": null,
   "id": "f24b9e7b",
   "metadata": {},
   "outputs": [],
   "source": [
    "inst_list = list(instrument_dict.values())\n",
    "inst_list.append('all')\n",
    "\n",
    "channel_list = list(channel_dict.keys())\n",
    "channel_list.append('all')"
   ]
  },
  {
   "cell_type": "code",
   "execution_count": null,
   "id": "068949ab",
   "metadata": {},
   "outputs": [],
   "source": [
    "def filter_list(Mode, Instrument, Channel):\n",
    "    \n",
    "    metadata_filtered_df = pd.DataFrame()\n",
    "    \n",
    "    if Mode == 'all':\n",
    "        metadata_filtered_df =  metadata_df\n",
    "    else:\n",
    "        metadata_filtered_df = metadata_df.loc[metadata_df['Mode'] == Mode[:3]]\n",
    "\n",
    "    if Instrument == 'all':\n",
    "        metadata_filtered_df =  metadata_filtered_df\n",
    "    else:\n",
    "        inst_key = get_key_from_value(instrument_dict, Instrument)[0]\n",
    "        if inst_key == 'multi-inst':\n",
    "            metadata_filtered_df = metadata_filtered_df.loc[metadata_filtered_df['Instrument'].apply(type) == list]\n",
    "        else:\n",
    "            metadata_filtered_df = metadata_filtered_df.loc[metadata_filtered_df['Instrument'] == inst_key]\n",
    "\n",
    "    if Channel == 'all':\n",
    "        metadata_filtered_df =  metadata_filtered_df\n",
    "    else:\n",
    "        metadata_filtered_df = metadata_filtered_df.loc[metadata_filtered_df['Channel'] == Channel]\n",
    "        \n",
    "    print(\"\\n\" + str(len(metadata_filtered_df)) + \" data sets found. Please select sets to plot:\")\n",
    "    \n",
    "    labels = []\n",
    "    \n",
    "    for index, row in metadata_filtered_df.iterrows():\n",
    "        label_str = ''\n",
    "        label_str += get_names_str(row['Instrument'], instrument_dict)\n",
    "        label_str += ' (' + row['Year'] + '): ' + get_names_str(row['Target'], target_dict) + ', ' + row['Channel'] \n",
    "        if row['Comment'] != '':\n",
    "            label_str += ', ' + row['Comment']\n",
    "        labels.append(label_str)\n",
    "    \n",
    "    \n",
    "    checkboxes = [widgets.Checkbox(value=False, description=label, layout=widgets.Layout(width='100%', flex_flow='wrap')) for label in labels]\n",
    "    output = widgets.VBox(children=checkboxes)\n",
    "    display(output)\n",
    "\n",
    "    #metadata_filtered_df = metadata_filtered_df.loc[[k.value for k in checkboxes]]\n",
    "    return metadata_filtered_df, checkboxes\n",
    "\n",
    "def filter_list_interactive():\n",
    "    return interactive(filter_list, Mode=['annihilation', 'decay', 'all'], Instrument=inst_list, Channel=channel_list)\n"
   ]
  },
  {
   "cell_type": "code",
   "execution_count": null,
   "id": "1c131247",
   "metadata": {},
   "outputs": [],
   "source": [
    "filter_widget = filter_list_interactive()\n",
    "display(filter_widget)"
   ]
  },
  {
   "cell_type": "markdown",
   "id": "32e9900e",
   "metadata": {},
   "source": [
    "Now execute next cell to create the plot:"
   ]
  },
  {
   "cell_type": "code",
   "execution_count": null,
   "id": "f6a43eea",
   "metadata": {},
   "outputs": [],
   "source": [
    "metadata_filtered_df = filter_widget.result[0].loc[[k.value for k in filter_widget.result[1]]]\n",
    "\n",
    "data_raw_vec = []\n",
    "labels_plot = []\n",
    "labels_plot_short = []\n",
    "xmin = 1e6*u.TeV\n",
    "xmax = 1e-6*u.TeV\n",
    "\n",
    "ymin = 1e-27\n",
    "ymax = 5e-20\n",
    "\n",
    "for index, row in metadata_filtered_df.iterrows():\n",
    "    data_raw = ascii.read(row['File name'])\n",
    "    if row['Mode'] == 'ann':\n",
    "        yaxis = 'sigmav'\n",
    "    else:\n",
    "        yaxis = 'tau'\n",
    "    data_raw_vec.append([data_raw['mass'], data_raw[yaxis]])\n",
    "    if min(data_raw['mass'].to('TeV')) < xmin: xmin = min(data_raw['mass'].to('TeV'))\n",
    "    if max(data_raw['mass'].to('TeV')) > xmax: xmax = max(data_raw['mass'].to('TeV'))\n",
    "\n",
    "    label_str = r''\n",
    "    label_str += get_names_str(row['Instrument'], instrument_dict)\n",
    "    label_str += ' (' + row['Year'] + ')'\n",
    "    labels_plot_short.append(label_str)\n",
    "    label_str += ': ' + get_names_str(row['Target'], target_dict) + ', $' + get_names_str(row['Channel'], channel_dict) + '$'\n",
    "    labels_plot.append(label_str)\n",
    "                \n",
    "xmin /= 2\n",
    "xmax *= 2\n",
    "x_grid = make_grid(xmin, xmax, npoints=2000, unit=style.energy_unit, log=True)\n",
    "n_plot =  len(data_raw_vec)\n",
    "\n",
    "data_to_plot = []\n",
    "for index in range(n_plot):\n",
    "\n",
    "    data_gridded = data_on_grid(data_raw_vec[index][0], data_raw_vec[index][1], x_grid, interpolation_kind='quadratic', fill_value = 1e40)\n",
    "    data_to_plot.append(data_gridded)\n",
    "    \n",
    "envelope= []\n",
    "for i in range(len(x_grid)):\n",
    "    minvals = []\n",
    "    for j in range(len(data_to_plot)):\n",
    "        val = data_to_plot[j][i].value\n",
    "        if np.isnan(val): val =1e40\n",
    "        minvals.append(val)\n",
    "    envelope.append(0.95*min(minvals))\n",
    "\n",
    "plot_limits = plt.figure(figsize=(style.figwidth, style.figheight))\n",
    "\n",
    "\n",
    "random_order = list(range(n_plot))\n",
    "random.shuffle(random_order)\n",
    "\n",
    "for j in range(n_plot):\n",
    "    \n",
    "    \n",
    "    plt.plot(x_grid, data_to_plot[j], label=labels_plot[j], color=style.colors[random_order[j]])\n",
    "    plt.fill_between(x_grid.value, data_to_plot[j].value, np.ones(len(x_grid)), alpha=0.1, color=style.colors[random_order[j]])\n",
    "    if style.legend == 'fancy':  \n",
    "        i_legend = next(x[0] for x in enumerate(data_to_plot[j].value) if x[1] < 1e40)\n",
    "        plt.text(x_grid[i_legend].value, 0.9*ymax,  labels_plot_short[j], horizontalalignment='right', verticalalignment='top', snap=True, color=style.colors[random_order[j]], rotation=90)\n",
    "    \n",
    "plt.plot(x_grid, envelope, linewidth=5, color='k', alpha=0.2)\n",
    "\n",
    "if style.legend == 'side':\n",
    "    plt.legend(bbox_to_anchor=(1.02,1), loc=\"upper left\", frameon=style.frameon)\n",
    "\n",
    "\n",
    "wimp_model = ascii.read(\"modelpredictions/wimp_steigman2012_numerical.ecsv\")\n",
    "plt.text(wimp_model[\"mass\"].to(style.energy_unit)[-1].value, wimp_model[\"sigmav\"][-1],  \"Steigman et al. (2012) thermal WIMP prediction\", horizontalalignment='right', verticalalignment='bottom', snap=True, color='k', alpha=0.3)\n",
    "wimp_model_gridded = data_on_grid(wimp_model[\"mass\"], wimp_model[\"sigmav\"], x_grid, interpolation_kind='quadratic', fill_value = 1e-40)\n",
    "\n",
    "plt.fill_between(x_grid.value, np.zeros(2000), wimp_model_gridded.value, color='k', alpha=0.1)\n",
    "\n",
    "\n",
    "plt.xscale('log')\n",
    "plt.yscale('log')\n",
    "plt.ylim([ymin, ymax])\n",
    "plt.xlim([xmin.to(style.energy_unit).value, xmax.to(style.energy_unit).value]);\n",
    "\n",
    "plt.xlabel(r'$m_{\\mathrm{DM}}$ $\\mathrm{[' +style.energy_unit + ']}$');\n",
    "plt.ylabel(r'$\\langle\\sigma v \\rangle$ $[\\mathrm{cm^3\\,s^{-1}}]$');"
   ]
  },
  {
   "cell_type": "code",
   "execution_count": null,
   "id": "c6fee9b8",
   "metadata": {},
   "outputs": [],
   "source": [
    "png_name = \"limits.png\"\n",
    "plot_limits.savefig(png_name, format='png', dpi=300, bbox_inches=\"tight\")"
   ]
  }
 ],
 "metadata": {
  "kernelspec": {
   "display_name": "Python 3 (ipykernel)",
   "language": "python",
   "name": "python3"
  },
  "language_info": {
   "codemirror_mode": {
    "name": "ipython",
    "version": 3
   },
   "file_extension": ".py",
   "mimetype": "text/x-python",
   "name": "python",
   "nbconvert_exporter": "python",
   "pygments_lexer": "ipython3",
   "version": "3.9.7"
  }
 },
 "nbformat": 4,
 "nbformat_minor": 5
}
