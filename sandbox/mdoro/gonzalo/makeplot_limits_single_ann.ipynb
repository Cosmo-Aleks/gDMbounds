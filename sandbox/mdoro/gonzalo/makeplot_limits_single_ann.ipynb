{
 "cells": [
  {
   "cell_type": "code",
   "execution_count": 1,
   "metadata": {},
   "outputs": [],
   "source": [
    "import matplotlib.pyplot as plt\n",
    "from matplotlib.gridspec import GridSpec\n",
    "from matplotlib.offsetbox import AnchoredText\n",
    "import pandas as pd\n",
    "import numpy as np\n",
    "import glob as glob\n",
    "from scipy.interpolate import interp1d"
   ]
  },
  {
   "cell_type": "code",
   "execution_count": 2,
   "metadata": {},
   "outputs": [],
   "source": [
    "relic = pd.read_csv('Relic_WIMP_Abundance.tsv',sep='\\s+')"
   ]
  },
  {
   "cell_type": "code",
   "execution_count": 3,
   "metadata": {},
   "outputs": [],
   "source": [
    "dSphNames = ['CBe','DraI','RetII', 'Scl', 'SgrII', 'UMaII', 'UMi','Wil1']\n",
    "channels = ['b','Tau']\n",
    "profiles=['Einasto','Burkert']"
   ]
  },
  {
   "cell_type": "code",
   "execution_count": 9,
   "metadata": {},
   "outputs": [],
   "source": [
    "df_list = []\n",
    "for name in dSphNames:\n",
    "    for profile in profiles:\n",
    "    \n",
    "        filename = 'sv_limits_files/'+name+'_'+profile+'_Annichilation.csv'\n",
    "        df_list.append(pd.read_csv(filename))\n",
    "        \n",
    "df = pd.concat(df_list, ignore_index=True)\n",
    "df.drop_duplicates(inplace=True)\n",
    "\n",
    "# Rescale mass column by 1/1000 to have it in TeV\n",
    "df['mass'] = df['mass'] / 1000"
   ]
  },
  {
   "cell_type": "code",
   "execution_count": 15,
   "metadata": {},
   "outputs": [
    {
     "ename": "SyntaxError",
     "evalue": "invalid syntax (3095353582.py, line 2)",
     "output_type": "error",
     "traceback": [
      "\u001b[0;36m  Cell \u001b[0;32mIn[15], line 2\u001b[0;36m\u001b[0m\n\u001b[0;31m    fig.title{\"test\"}\u001b[0m\n\u001b[0m             ^\u001b[0m\n\u001b[0;31mSyntaxError\u001b[0m\u001b[0;31m:\u001b[0m invalid syntax\n"
     ]
    }
   ],
   "source": [
    "fig = plt.figure(figsize=(15, 8))\n",
    "\n",
    "profile = 'Einasto'\n",
    "\n",
    "contador = 1\n",
    "for name in dSphNames:\n",
    "    \n",
    "    plt.subplot(2, 4, contador)\n",
    "\n",
    "    contador = contador + 1\n",
    "    \n",
    "    scale = 1\n",
    "    mask_dw = (df['quantile'] == 0.05) & (df['name']==name) & (df['ch']=='b') & (df['profile']==profile)\n",
    "    mask_up = (df['quantile'] == 0.95) & (df['name']==name) & (df['ch']=='b') & (df['profile']==profile)\n",
    "    plt.fill_between(df[mask_dw]['mass'],\n",
    "                     df[mask_up]['sigma_v']*scale,\n",
    "                     df[mask_dw]['sigma_v']*scale, color='gold', alpha=0.4)\n",
    "\n",
    "\n",
    "    mask_dw = (df['quantile'] == 0.32) & (df['name']==name) & (df['ch']=='b') & (df['profile']==profile)\n",
    "    mask_up = (df['quantile'] == 0.68) & (df['name']==name) & (df['ch']=='b') & (df['profile']==profile)\n",
    "    plt.fill_between(df[mask_dw]['mass'],\n",
    "                     df[mask_up]['sigma_v']*scale,\n",
    "                     df[mask_dw]['sigma_v']*scale, color='yellowgreen', alpha=0.75)\n",
    "    \n",
    "    \n",
    "    \n",
    "    mask = (df['quantile'] == 0.5) & (df['name']==name) & (df['profile']==profile) & (df['ch']=='b')\n",
    "    plt.loglog(df[mask]['mass'],df[mask]['sigma_v']*scale, \n",
    "               ls='-', linewidth=2, color='black',\n",
    "               #marker='o',\n",
    "               label=r'b$\\bar{b}$') \n",
    "    \n",
    "    \n",
    "    mask = (df['quantile'] == 0.5) & (df['name']==name) & (df['profile']==profile) & (df['ch']=='tau')\n",
    "    plt.loglog(df[mask]['mass'],df[mask]['sigma_v']*scale, \n",
    "               ls='--', linewidth=2, color='black',\n",
    "               #marker='o',\n",
    "               label=r'$\\tau^{+}\\tau^{-}$') \n",
    "    \n",
    "\n",
    "    plt.plot(relic.mass*1e-3, relic.sigmav, color='purple')\n",
    "\n",
    "    \n",
    "    plt.legend(loc='upper right',fontsize=12)\n",
    "    ax = plt.gca()\n",
    "    at = AnchoredText(name+' (Einasto)'+\"\\n\"+r\"T$_{obs}$=100 h\",\n",
    "              loc='upper left', prop=dict(size=12), frameon=True)\n",
    "    plt.text(x=4.500, y=3e-26, s='Steigman 2012', color=\"purple\")\n",
    "    \n",
    "    ax.add_artist(at)\n",
    "    #ax.add_artist(at2)\n",
    "              \n",
    "    \n",
    "    plt.grid()\n",
    "    plt.ylim(1e-26,1e-21)\n",
    "    plt.xlim(80*1e-3,1e5*1e-3)\n",
    "    \n",
    "    if contador-1 == 1 or contador-1 == 5:\n",
    "        plt.ylabel(r\"<$\\sigma v$> [cm$^3$s$^{-1}$]\", fontsize=12)\n",
    "        \n",
    "    \n",
    "    plt.xlabel(\"m$_{DM}$ (TeV)\", fontsize=12)\n",
    "    \n",
    "    plt.tick_params(which='both', direction='in', top=True, right=True)\n",
    "\n",
    "    \n",
    "\n",
    "\n",
    "plt.savefig('dsph8_ann_bb_tau.png', bbox_inches='tight', pad_inches=0.3)\n"
   ]
  },
  {
   "cell_type": "code",
   "execution_count": null,
   "metadata": {},
   "outputs": [],
   "source": []
  },
  {
   "cell_type": "code",
   "execution_count": null,
   "metadata": {},
   "outputs": [],
   "source": []
  }
 ],
 "metadata": {
  "kernelspec": {
   "display_name": "Python 3 (ipykernel)",
   "language": "python",
   "name": "python3"
  },
  "language_info": {
   "codemirror_mode": {
    "name": "ipython",
    "version": 3
   },
   "file_extension": ".py",
   "mimetype": "text/x-python",
   "name": "python",
   "nbconvert_exporter": "python",
   "pygments_lexer": "ipython3",
   "version": "3.10.13"
  },
  "toc": {
   "base_numbering": 1,
   "nav_menu": {},
   "number_sections": false,
   "sideBar": true,
   "skip_h1_title": false,
   "title_cell": "Table of Contents",
   "title_sidebar": "Contents",
   "toc_cell": false,
   "toc_position": {},
   "toc_section_display": true,
   "toc_window_display": false
  },
  "varInspector": {
   "cols": {
    "lenName": 16,
    "lenType": 16,
    "lenVar": 40
   },
   "kernels_config": {
    "python": {
     "delete_cmd_postfix": "",
     "delete_cmd_prefix": "del ",
     "library": "var_list.py",
     "varRefreshCmd": "print(var_dic_list())"
    },
    "r": {
     "delete_cmd_postfix": ") ",
     "delete_cmd_prefix": "rm(",
     "library": "var_list.r",
     "varRefreshCmd": "cat(var_dic_list()) "
    }
   },
   "types_to_exclude": [
    "module",
    "function",
    "builtin_function_or_method",
    "instance",
    "_Feature"
   ],
   "window_display": false
  }
 },
 "nbformat": 4,
 "nbformat_minor": 2
}
