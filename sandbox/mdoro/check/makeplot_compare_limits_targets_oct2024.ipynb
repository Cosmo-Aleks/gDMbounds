{
 "cells": [
  {
   "cell_type": "markdown",
   "metadata": {
    "scrolled": true
   },
   "source": [
    "# DMbounds tutorial notebook\n",
    "&copy; M. H&uuml;tten and M. Doro, 2022\n",
    "\n",
    "Load the module:"
   ]
  },
  {
   "cell_type": "code",
   "execution_count": 1,
   "metadata": {},
   "outputs": [],
   "source": [
    "#from dmbounds import dmbounds as bounds\n",
    "from astropy.io import ascii\n",
    "import matplotlib.pyplot as plt\n",
    "import numpy as np"
   ]
  },
  {
   "cell_type": "code",
   "execution_count": null,
   "metadata": {},
   "outputs": [],
   "source": [
    "from random import randint\n",
    "colors = []\n",
    "\n",
    "for i in range(10):\n",
    "    colors.append('#%06X' % randint(0, 0xFFFFFF))\n",
    "\n",
    "colors[0]"
   ]
  },
  {
   "cell_type": "markdown",
   "metadata": {},
   "source": [
    "children[1].set_color('k')\n",
    "children[2].set_color('k')\n",
    "children[3].set_color('k')\n",
    "children[4].set_color('k')\n",
    "children[5].set_color('k')\n",
    "children[1].set_linestyle('dashed')\n",
    "children[2].set_linestyle('dotted')\n",
    "children[3].set_linestyle('dashdot')\n",
    "children[4].set_linestyle((0, (1, 10)))\n",
    "children[5].set_linestyle((0, (1, 1)))"
   ]
  },
  {
   "cell_type": "markdown",
   "metadata": {},
   "source": [
    "## dsph comparison bb"
   ]
  },
  {
   "cell_type": "code",
   "execution_count": 3,
   "metadata": {},
   "outputs": [],
   "source": [
    "path = \"../../dmbounds/\"\n",
    "\n",
    "# cta_21_gc_bb = ascii.read(path+\"bounds/cta/cta_2021_gc_ann_bb_sens.ecsv\")\n",
    "hess_22_gc_bb = ascii.read(path+\"bounds/hess/hess_2022_gc_ann_bb.ecsv\")\n",
    "# hess_16_gc_bb = ascii.read(path+\"bounds/hess/hess_2016_gc_ann_bb.ecsv\")\n",
    "# cta_21_gc_tautau = ascii.read(path+\"bounds/cta/cta_2021_gc_ann_tautau_sens.ecsv\")\n",
    "# #hess_22_gc_tautau = ascii.read(path+\"bounds/hess/hess_2022_gc_ann_tautau.ecsv\")\n",
    "# hess_16_gc_tautau = ascii.read(path+\"bounds/hess/hess_2016_gc_ann_tautau.ecsv\")\n",
    "# cta_21_gc_WW = ascii.read(path+\"bounds/cta/cta_2021_gc_ann_WW_sens.ecsv\")\n",
    "\n",
    "magic_14_segue1_bb = ascii.read(path+\"bounds/magic/magic_2014_segue1_ann_bb.ecsv\")\n",
    "magic_22_segue1_bb = ascii.read(path+\"bounds/magic/magic_2022_segue1_ann_bb.ecsv\")\n",
    "magic_18_uma2_bb = ascii.read(path+\"bounds/magic/magic_2018_ursamajor2_ann_bb.ecsv\")\n",
    "magic_20_tri2_bb = ascii.read(path+\"bounds/magic/magic_2020_triangulum2_ann_bb.ecsv\")\n",
    "magic_20_cbe_bb = ascii.read(path+\"bounds/magic/magic_2022_comaberenices_ann_bb.ecsv\")\n",
    "magic_22_multidsphs_bb = ascii.read(path+\"bounds/magic/magic_2022_multidsph_ann_bb.ecsv\")\n",
    "\n",
    "steigman = ascii.read(path+\"modelpredictions/wimp_steigman2012_numerical.ecsv\")"
   ]
  },
  {
   "cell_type": "code",
   "execution_count": null,
   "metadata": {},
   "outputs": [],
   "source": [
    "plt.figure(figsize=(6,6))\n",
    "plt.xlabel(\"DM mass [TeV]\")\n",
    "plt.ylabel(r\"$\\langle\\sigma v \\rangle$ cm$^{-3}$ s$^{-1}$\")\n",
    "plt.xlim(5e-2,1e2)\n",
    "plt.ylim(1e-26,1e-20)\n",
    "plt.title(r'Comparison limits on dSphs- $b\\bar{b}$')\n",
    "\n",
    "\n",
    "plt.fill_between(steigman['mass']*1e-3, 1e-28, steigman['sigmav'],color='tab:purple',alpha=0.2,label=\"Steigman 2020\")\n",
    "\n",
    "plt.loglog(hess_22_gc_bb['mass'],hess_22_gc_bb['sigmav'],color=\"black\",linestyle='--',label=r\"HESS 2022 $b\\bar{b}$\")\n",
    "\n",
    "\n",
    "plt.loglog(magic_14_segue1_bb['mass'],magic_14_segue1_bb['sigmav'],color=colors[0],linestyle=':',label=r\"Segue1 (2014)\")\n",
    "plt.loglog(magic_18_uma2_bb['mass'],magic_18_uma2_bb['sigmav'],color=colors[1],linestyle=':',label=r\"UMa2 (2018)\")\n",
    "plt.loglog(magic_20_cbe_bb['mass']*1e-3,magic_20_cbe_bb['sigmav'],color=colors[2],linestyle=':',label=r\"Coma Ber (2020)\")\n",
    "plt.loglog(magic_20_tri2_bb['mass']*1e-3,magic_20_tri2_bb['sigmav'],color=colors[3],linestyle=':',label=r\"Triangulum2 (2020)\")\n",
    "plt.loglog(magic_22_segue1_bb['mass']*1e-3,magic_22_segue1_bb['sigmav'],color=colors[4],linestyle=':',label=r\"Segue1 (2022) \")\n",
    "plt.loglog(magic_22_multidsphs_bb['mass']*1e-3,magic_22_multidsphs_bb['sigmav'],color=colors[5],linestyle='-',label=r\"COMBINED DSPHS (2022) \")\n",
    "\n",
    "plt.loglog(magic_22_multidsphs_bb['mass']*1e-3,magic_22_multidsphs_bb['sigmav']/500,color=colors[5],linestyle='--',label=r\"UMa3/U1 like (not observed)$\")\n",
    "\n",
    "plt.legend(loc=\"best\", ncols=2)\n",
    "plt.grid()\n",
    "\n",
    "#plt.savefig(\"compare_cta_bb.png\")"
   ]
  },
  {
   "cell_type": "markdown",
   "metadata": {},
   "source": [
    "## dsph comparison tautau"
   ]
  },
  {
   "cell_type": "code",
   "execution_count": null,
   "metadata": {},
   "outputs": [],
   "source": [
    "magic_22_mdsph = ascii.read(\"./dmbounds/bounds/magic/magic_2022_multidsph_ann_tautau.ecsv\")\n",
    "hawc_18_mdsph= ascii.read(\"./dmbounds/bounds/hawc/hawc_2018_multidsph_ann_tautau.ecsv\")\n",
    "hess_20_mdsph = ascii.read(\"./dmbounds/bounds/hess/hess_2020_multidsph_ann_tautau.ecsv\")\n",
    "fermi_20_mdsph = ascii.read(\"./dmbounds/bounds/lat/lat_2020_multidsph_ann_tautau_oneD_frequentist.ecsv\")\n",
    "#lhaaso_19_mdsph = ascii.read(\"./dmbounds/bounds/lhaaso/lhaaso_2019_multidsph_ann_bb_sens.ecsv\n",
    "veritas_17_mdsph = ascii.read(\"./dmbounds/bounds/veritas/veritas_2017_multidsph_ann_tautau.ecsv\")\n",
    "\n",
    "#stack_core = ascii.read(\"./dmbounds/bounds/temp/stack_burkert_bb.csv\")\n",
    "stack_cusp = ascii.read(\"./dmbounds/bounds/temp/stack_Wil1_and_CBe_Einasto_600h_tautau.csv\")\n",
    "\n",
    "steigman = ascii.read(\"./dmbounds/modelpredictions/wimp_steigman2012_numerical.ecsv\")"
   ]
  },
  {
   "cell_type": "code",
   "execution_count": null,
   "metadata": {},
   "outputs": [],
   "source": [
    "plt.figure(figsize=(7,7))\n",
    "plt.xlabel(\"DM mass [TeV]\")\n",
    "plt.ylabel(r\"$\\langle\\sigma v \\rangle$ cm$^{-3}$ s$^{-1}$\")\n",
    "plt.xlim(5e-2,1e2)\n",
    "plt.ylim(1e-27,1e-22)\n",
    "plt.title(r'Comparison dSph limits - $\\tau^+\\tau^-$')\n",
    "plt.loglog(magic_22_mdsph['mass']*1e-3,magic_22_mdsph['sigmav'],color='k',linestyle='dashed',label=\"MAGIC 2022 multidsph\")\n",
    "plt.loglog(hawc_18_mdsph['mass']*1,hawc_18_mdsph['sigmav'],color='k',linestyle='dotted',label=\"HAWC 2018 multidsph\")\n",
    "plt.loglog(hess_20_mdsph['mass']*1,hess_20_mdsph['sigmav'],color='k',linestyle='dashdot',label=\"HESS 2020 multidsph\")\n",
    "plt.loglog(fermi_20_mdsph['mass']*1e-3,fermi_20_mdsph['sigmav'],color='k',linestyle='dashdot',label=\"Fermi-LAT 2020 multidsph\")\n",
    "#plt.loglog(lhaaso_19_mdsph['mass'],lhaaso_19_mdsph['sigmav'],color='k',linestyle=(0, (1, 10)),label=\"LHAASO 19 multidsph\")\n",
    "plt.loglog(veritas_17_mdsph['mass']*1e-3,veritas_17_mdsph['sigmav'],color='k',linestyle=(0, (1, 5)),label=\"VERITAS 2017 multidsph\")\n",
    "\n",
    "\n",
    "#plt.loglog(steigman['mass']*1e-3,steigman['sigmav'],color='pink',label=\"Steigman 2020\")\n",
    "plt.fill_between(steigman['mass']*1e-3, 1e-28, steigman['sigmav'],color='tab:purple',alpha=0.2,label=\"Steigman 2020\")\n",
    "\n",
    "#plt.loglog(stack_core['mass']*1e-3,stack_core['sigmav'],label=\"Sgr2+CBe Core (this work)\")\n",
    "plt.loglog(stack_cusp['mass']*1e-3,stack_cusp['sigmav'],label=\"Wil1 + CBe 600h (this work)\")\n",
    "\n",
    "plt.grid()\n",
    "plt.legend(loc=\"best\",ncol=2)\n",
    "\n",
    "plt.savefig(\"compare_cta_tautau.eps\")\n",
    "plt.savefig(\"compare_cta_tautau.pdf\")\n",
    "plt.savefig(\"compare_cta_tautau.png\")"
   ]
  },
  {
   "cell_type": "markdown",
   "metadata": {},
   "source": [
    "## target comparison"
   ]
  },
  {
   "cell_type": "code",
   "execution_count": 2,
   "metadata": {},
   "outputs": [
    {
     "ename": "FileNotFoundError",
     "evalue": "[Errno 2] No such file or directory: '../dmbounds/bounds/cta/cta_2021_gc_ann_bb_sens.ecsv'",
     "output_type": "error",
     "traceback": [
      "\u001b[0;31m---------------------------------------------------------------------------\u001b[0m",
      "\u001b[0;31mFileNotFoundError\u001b[0m                         Traceback (most recent call last)",
      "Cell \u001b[0;32mIn[2], line 2\u001b[0m\n\u001b[1;32m      1\u001b[0m \u001b[38;5;66;03m#cta_21_gc= ascii.read(\"./dmbounds/bounds/cta/cta_2021_gc_ann_bb_sens.ecsv\")\u001b[39;00m\n\u001b[0;32m----> 2\u001b[0m cta_21_gc\u001b[38;5;241m=\u001b[39m \u001b[43mascii\u001b[49m\u001b[38;5;241;43m.\u001b[39;49m\u001b[43mread\u001b[49m\u001b[43m(\u001b[49m\u001b[38;5;124;43m\"\u001b[39;49m\u001b[38;5;124;43m../dmbounds/bounds/cta/cta_2021_gc_ann_bb_sens.ecsv\u001b[39;49m\u001b[38;5;124;43m\"\u001b[39;49m\u001b[43m)\u001b[49m\n\u001b[1;32m      3\u001b[0m cta_21_gc_core\u001b[38;5;241m=\u001b[39m ascii\u001b[38;5;241m.\u001b[39mread(\u001b[38;5;124m\"\u001b[39m\u001b[38;5;124m./cta_2021_gc_WW_core.ecsv\u001b[39m\u001b[38;5;124m\"\u001b[39m)\n\u001b[1;32m      4\u001b[0m cta_23_perseus\u001b[38;5;241m=\u001b[39m ascii\u001b[38;5;241m.\u001b[39mread(\u001b[38;5;124m\"\u001b[39m\u001b[38;5;124m./cta_perseus_ksp_bb.csv\u001b[39m\u001b[38;5;124m\"\u001b[39m)\n",
      "File \u001b[0;32m~/Soft/miniconda3/envs/gammapy-1.2/lib/python3.10/site-packages/astropy/utils/decorators.py:604\u001b[0m, in \u001b[0;36mdeprecated_renamed_argument.<locals>.decorator.<locals>.wrapper\u001b[0;34m(*args, **kwargs)\u001b[0m\n\u001b[1;32m    601\u001b[0m             msg \u001b[38;5;241m+\u001b[39m\u001b[38;5;241m=\u001b[39m \u001b[38;5;124mf\u001b[39m\u001b[38;5;124m\"\u001b[39m\u001b[38;5;130;01m\\n\u001b[39;00m\u001b[38;5;124m        Use \u001b[39m\u001b[38;5;132;01m{\u001b[39;00malternative\u001b[38;5;132;01m}\u001b[39;00m\u001b[38;5;124m instead.\u001b[39m\u001b[38;5;124m\"\u001b[39m\n\u001b[1;32m    602\u001b[0m         warnings\u001b[38;5;241m.\u001b[39mwarn(msg, warning_type, stacklevel\u001b[38;5;241m=\u001b[39m\u001b[38;5;241m2\u001b[39m)\n\u001b[0;32m--> 604\u001b[0m \u001b[38;5;28;01mreturn\u001b[39;00m \u001b[43mfunction\u001b[49m\u001b[43m(\u001b[49m\u001b[38;5;241;43m*\u001b[39;49m\u001b[43margs\u001b[49m\u001b[43m,\u001b[49m\u001b[43m \u001b[49m\u001b[38;5;241;43m*\u001b[39;49m\u001b[38;5;241;43m*\u001b[39;49m\u001b[43mkwargs\u001b[49m\u001b[43m)\u001b[49m\n",
      "File \u001b[0;32m~/Soft/miniconda3/envs/gammapy-1.2/lib/python3.10/site-packages/astropy/utils/decorators.py:604\u001b[0m, in \u001b[0;36mdeprecated_renamed_argument.<locals>.decorator.<locals>.wrapper\u001b[0;34m(*args, **kwargs)\u001b[0m\n\u001b[1;32m    601\u001b[0m             msg \u001b[38;5;241m+\u001b[39m\u001b[38;5;241m=\u001b[39m \u001b[38;5;124mf\u001b[39m\u001b[38;5;124m\"\u001b[39m\u001b[38;5;130;01m\\n\u001b[39;00m\u001b[38;5;124m        Use \u001b[39m\u001b[38;5;132;01m{\u001b[39;00malternative\u001b[38;5;132;01m}\u001b[39;00m\u001b[38;5;124m instead.\u001b[39m\u001b[38;5;124m\"\u001b[39m\n\u001b[1;32m    602\u001b[0m         warnings\u001b[38;5;241m.\u001b[39mwarn(msg, warning_type, stacklevel\u001b[38;5;241m=\u001b[39m\u001b[38;5;241m2\u001b[39m)\n\u001b[0;32m--> 604\u001b[0m \u001b[38;5;28;01mreturn\u001b[39;00m \u001b[43mfunction\u001b[49m\u001b[43m(\u001b[49m\u001b[38;5;241;43m*\u001b[39;49m\u001b[43margs\u001b[49m\u001b[43m,\u001b[49m\u001b[43m \u001b[49m\u001b[38;5;241;43m*\u001b[39;49m\u001b[38;5;241;43m*\u001b[39;49m\u001b[43mkwargs\u001b[49m\u001b[43m)\u001b[49m\n",
      "    \u001b[0;31m[... skipping similar frames: deprecated_renamed_argument.<locals>.decorator.<locals>.wrapper at line 604 (2 times)]\u001b[0m\n",
      "File \u001b[0;32m~/Soft/miniconda3/envs/gammapy-1.2/lib/python3.10/site-packages/astropy/utils/decorators.py:604\u001b[0m, in \u001b[0;36mdeprecated_renamed_argument.<locals>.decorator.<locals>.wrapper\u001b[0;34m(*args, **kwargs)\u001b[0m\n\u001b[1;32m    601\u001b[0m             msg \u001b[38;5;241m+\u001b[39m\u001b[38;5;241m=\u001b[39m \u001b[38;5;124mf\u001b[39m\u001b[38;5;124m\"\u001b[39m\u001b[38;5;130;01m\\n\u001b[39;00m\u001b[38;5;124m        Use \u001b[39m\u001b[38;5;132;01m{\u001b[39;00malternative\u001b[38;5;132;01m}\u001b[39;00m\u001b[38;5;124m instead.\u001b[39m\u001b[38;5;124m\"\u001b[39m\n\u001b[1;32m    602\u001b[0m         warnings\u001b[38;5;241m.\u001b[39mwarn(msg, warning_type, stacklevel\u001b[38;5;241m=\u001b[39m\u001b[38;5;241m2\u001b[39m)\n\u001b[0;32m--> 604\u001b[0m \u001b[38;5;28;01mreturn\u001b[39;00m \u001b[43mfunction\u001b[49m\u001b[43m(\u001b[49m\u001b[38;5;241;43m*\u001b[39;49m\u001b[43margs\u001b[49m\u001b[43m,\u001b[49m\u001b[43m \u001b[49m\u001b[38;5;241;43m*\u001b[39;49m\u001b[38;5;241;43m*\u001b[39;49m\u001b[43mkwargs\u001b[49m\u001b[43m)\u001b[49m\n",
      "File \u001b[0;32m~/Soft/miniconda3/envs/gammapy-1.2/lib/python3.10/site-packages/astropy/io/ascii/ui.py:411\u001b[0m, in \u001b[0;36mread\u001b[0;34m(table, guess, **kwargs)\u001b[0m\n\u001b[1;32m    405\u001b[0m             new_kwargs[\u001b[38;5;124m\"\u001b[39m\u001b[38;5;124mguess_html\u001b[39m\u001b[38;5;124m\"\u001b[39m] \u001b[38;5;241m=\u001b[39m _probably_html(table)\n\u001b[1;32m    407\u001b[0m \u001b[38;5;66;03m# Get the table from guess in ``dat``.  If ``dat`` comes back as None\u001b[39;00m\n\u001b[1;32m    408\u001b[0m \u001b[38;5;66;03m# then there was just one set of kwargs in the guess list so fall\u001b[39;00m\n\u001b[1;32m    409\u001b[0m \u001b[38;5;66;03m# through below to the non-guess way so that any problems result in a\u001b[39;00m\n\u001b[1;32m    410\u001b[0m \u001b[38;5;66;03m# more useful traceback.\u001b[39;00m\n\u001b[0;32m--> 411\u001b[0m dat \u001b[38;5;241m=\u001b[39m \u001b[43m_guess\u001b[49m\u001b[43m(\u001b[49m\u001b[43mtable\u001b[49m\u001b[43m,\u001b[49m\u001b[43m \u001b[49m\u001b[43mnew_kwargs\u001b[49m\u001b[43m,\u001b[49m\u001b[43m \u001b[49m\u001b[38;5;28;43mformat\u001b[39;49m\u001b[43m,\u001b[49m\u001b[43m \u001b[49m\u001b[43mfast_reader\u001b[49m\u001b[43m)\u001b[49m\n\u001b[1;32m    412\u001b[0m \u001b[38;5;28;01mif\u001b[39;00m dat \u001b[38;5;129;01mis\u001b[39;00m \u001b[38;5;28;01mNone\u001b[39;00m:\n\u001b[1;32m    413\u001b[0m     guess \u001b[38;5;241m=\u001b[39m \u001b[38;5;28;01mFalse\u001b[39;00m\n",
      "File \u001b[0;32m~/Soft/miniconda3/envs/gammapy-1.2/lib/python3.10/site-packages/astropy/io/ascii/ui.py:618\u001b[0m, in \u001b[0;36m_guess\u001b[0;34m(table, read_kwargs, format, fast_reader)\u001b[0m\n\u001b[1;32m    615\u001b[0m reader \u001b[38;5;241m=\u001b[39m get_reader(\u001b[38;5;241m*\u001b[39m\u001b[38;5;241m*\u001b[39mguess_kwargs)\n\u001b[1;32m    617\u001b[0m reader\u001b[38;5;241m.\u001b[39mguessing \u001b[38;5;241m=\u001b[39m \u001b[38;5;28;01mTrue\u001b[39;00m\n\u001b[0;32m--> 618\u001b[0m dat \u001b[38;5;241m=\u001b[39m \u001b[43mreader\u001b[49m\u001b[38;5;241;43m.\u001b[39;49m\u001b[43mread\u001b[49m\u001b[43m(\u001b[49m\u001b[43mtable\u001b[49m\u001b[43m)\u001b[49m\n\u001b[1;32m    619\u001b[0m _read_trace\u001b[38;5;241m.\u001b[39mappend(\n\u001b[1;32m    620\u001b[0m     {\n\u001b[1;32m    621\u001b[0m         \u001b[38;5;124m\"\u001b[39m\u001b[38;5;124mkwargs\u001b[39m\u001b[38;5;124m\"\u001b[39m: copy\u001b[38;5;241m.\u001b[39mdeepcopy(guess_kwargs),\n\u001b[0;32m   (...)\u001b[0m\n\u001b[1;32m    625\u001b[0m     }\n\u001b[1;32m    626\u001b[0m )\n\u001b[1;32m    627\u001b[0m \u001b[38;5;28;01mreturn\u001b[39;00m dat\n",
      "File \u001b[0;32m~/Soft/miniconda3/envs/gammapy-1.2/lib/python3.10/site-packages/astropy/io/ascii/core.py:1414\u001b[0m, in \u001b[0;36mBaseReader.read\u001b[0;34m(self, table)\u001b[0m\n\u001b[1;32m   1411\u001b[0m     newline \u001b[38;5;241m=\u001b[39m \u001b[38;5;28;01mNone\u001b[39;00m\n\u001b[1;32m   1413\u001b[0m \u001b[38;5;66;03m# Get a list of the lines (rows) in the table\u001b[39;00m\n\u001b[0;32m-> 1414\u001b[0m \u001b[38;5;28mself\u001b[39m\u001b[38;5;241m.\u001b[39mlines \u001b[38;5;241m=\u001b[39m \u001b[38;5;28;43mself\u001b[39;49m\u001b[38;5;241;43m.\u001b[39;49m\u001b[43minputter\u001b[49m\u001b[38;5;241;43m.\u001b[39;49m\u001b[43mget_lines\u001b[49m\u001b[43m(\u001b[49m\u001b[43mtable\u001b[49m\u001b[43m,\u001b[49m\u001b[43m \u001b[49m\u001b[43mnewline\u001b[49m\u001b[38;5;241;43m=\u001b[39;49m\u001b[43mnewline\u001b[49m\u001b[43m)\u001b[49m\n\u001b[1;32m   1416\u001b[0m \u001b[38;5;66;03m# Set self.data.data_lines to a slice of lines contain the data rows\u001b[39;00m\n\u001b[1;32m   1417\u001b[0m \u001b[38;5;28mself\u001b[39m\u001b[38;5;241m.\u001b[39mdata\u001b[38;5;241m.\u001b[39mget_data_lines(\u001b[38;5;28mself\u001b[39m\u001b[38;5;241m.\u001b[39mlines)\n",
      "File \u001b[0;32m~/Soft/miniconda3/envs/gammapy-1.2/lib/python3.10/site-packages/astropy/io/ascii/core.py:335\u001b[0m, in \u001b[0;36mBaseInputter.get_lines\u001b[0;34m(self, table, newline)\u001b[0m\n\u001b[1;32m    331\u001b[0m \u001b[38;5;28;01mtry\u001b[39;00m:\n\u001b[1;32m    332\u001b[0m     \u001b[38;5;28;01mif\u001b[39;00m \u001b[38;5;28mhasattr\u001b[39m(table, \u001b[38;5;124m\"\u001b[39m\u001b[38;5;124mread\u001b[39m\u001b[38;5;124m\"\u001b[39m) \u001b[38;5;129;01mor\u001b[39;00m (\n\u001b[1;32m    333\u001b[0m         \u001b[38;5;124m\"\u001b[39m\u001b[38;5;130;01m\\n\u001b[39;00m\u001b[38;5;124m\"\u001b[39m \u001b[38;5;129;01mnot\u001b[39;00m \u001b[38;5;129;01min\u001b[39;00m table \u001b[38;5;241m+\u001b[39m \u001b[38;5;124m\"\u001b[39m\u001b[38;5;124m\"\u001b[39m \u001b[38;5;129;01mand\u001b[39;00m \u001b[38;5;124m\"\u001b[39m\u001b[38;5;130;01m\\r\u001b[39;00m\u001b[38;5;124m\"\u001b[39m \u001b[38;5;129;01mnot\u001b[39;00m \u001b[38;5;129;01min\u001b[39;00m table \u001b[38;5;241m+\u001b[39m \u001b[38;5;124m\"\u001b[39m\u001b[38;5;124m\"\u001b[39m\n\u001b[1;32m    334\u001b[0m     ):\n\u001b[0;32m--> 335\u001b[0m         \u001b[38;5;28;01mwith\u001b[39;00m get_readable_fileobj(table, encoding\u001b[38;5;241m=\u001b[39m\u001b[38;5;28mself\u001b[39m\u001b[38;5;241m.\u001b[39mencoding) \u001b[38;5;28;01mas\u001b[39;00m fileobj:\n\u001b[1;32m    336\u001b[0m             table \u001b[38;5;241m=\u001b[39m fileobj\u001b[38;5;241m.\u001b[39mread()\n\u001b[1;32m    337\u001b[0m     \u001b[38;5;28;01mif\u001b[39;00m newline \u001b[38;5;129;01mis\u001b[39;00m \u001b[38;5;28;01mNone\u001b[39;00m:\n",
      "File \u001b[0;32m~/Soft/miniconda3/envs/gammapy-1.2/lib/python3.10/contextlib.py:135\u001b[0m, in \u001b[0;36m_GeneratorContextManager.__enter__\u001b[0;34m(self)\u001b[0m\n\u001b[1;32m    133\u001b[0m \u001b[38;5;28;01mdel\u001b[39;00m \u001b[38;5;28mself\u001b[39m\u001b[38;5;241m.\u001b[39margs, \u001b[38;5;28mself\u001b[39m\u001b[38;5;241m.\u001b[39mkwds, \u001b[38;5;28mself\u001b[39m\u001b[38;5;241m.\u001b[39mfunc\n\u001b[1;32m    134\u001b[0m \u001b[38;5;28;01mtry\u001b[39;00m:\n\u001b[0;32m--> 135\u001b[0m     \u001b[38;5;28;01mreturn\u001b[39;00m \u001b[38;5;28;43mnext\u001b[39;49m\u001b[43m(\u001b[49m\u001b[38;5;28;43mself\u001b[39;49m\u001b[38;5;241;43m.\u001b[39;49m\u001b[43mgen\u001b[49m\u001b[43m)\u001b[49m\n\u001b[1;32m    136\u001b[0m \u001b[38;5;28;01mexcept\u001b[39;00m \u001b[38;5;167;01mStopIteration\u001b[39;00m:\n\u001b[1;32m    137\u001b[0m     \u001b[38;5;28;01mraise\u001b[39;00m \u001b[38;5;167;01mRuntimeError\u001b[39;00m(\u001b[38;5;124m\"\u001b[39m\u001b[38;5;124mgenerator didn\u001b[39m\u001b[38;5;124m'\u001b[39m\u001b[38;5;124mt yield\u001b[39m\u001b[38;5;124m\"\u001b[39m) \u001b[38;5;28;01mfrom\u001b[39;00m \u001b[38;5;28;01mNone\u001b[39;00m\n",
      "File \u001b[0;32m~/Soft/miniconda3/envs/gammapy-1.2/lib/python3.10/site-packages/astropy/utils/data.py:364\u001b[0m, in \u001b[0;36mget_readable_fileobj\u001b[0;34m(name_or_obj, encoding, cache, show_progress, remote_timeout, sources, http_headers, use_fsspec, fsspec_kwargs, close_files)\u001b[0m\n\u001b[1;32m    355\u001b[0m \u001b[38;5;28;01mif\u001b[39;00m is_url:\n\u001b[1;32m    356\u001b[0m     name_or_obj \u001b[38;5;241m=\u001b[39m download_file(\n\u001b[1;32m    357\u001b[0m         name_or_obj,\n\u001b[1;32m    358\u001b[0m         cache\u001b[38;5;241m=\u001b[39mcache,\n\u001b[0;32m   (...)\u001b[0m\n\u001b[1;32m    362\u001b[0m         http_headers\u001b[38;5;241m=\u001b[39mhttp_headers,\n\u001b[1;32m    363\u001b[0m     )\n\u001b[0;32m--> 364\u001b[0m fileobj \u001b[38;5;241m=\u001b[39m \u001b[43mio\u001b[49m\u001b[38;5;241;43m.\u001b[39;49m\u001b[43mFileIO\u001b[49m\u001b[43m(\u001b[49m\u001b[43mname_or_obj\u001b[49m\u001b[43m,\u001b[49m\u001b[43m \u001b[49m\u001b[38;5;124;43m\"\u001b[39;49m\u001b[38;5;124;43mr\u001b[39;49m\u001b[38;5;124;43m\"\u001b[39;49m\u001b[43m)\u001b[49m\n\u001b[1;32m    365\u001b[0m \u001b[38;5;28;01mif\u001b[39;00m is_url \u001b[38;5;129;01mand\u001b[39;00m \u001b[38;5;129;01mnot\u001b[39;00m cache:\n\u001b[1;32m    366\u001b[0m     delete_fds\u001b[38;5;241m.\u001b[39mappend(fileobj)\n",
      "\u001b[0;31mFileNotFoundError\u001b[0m: [Errno 2] No such file or directory: '../dmbounds/bounds/cta/cta_2021_gc_ann_bb_sens.ecsv'"
     ]
    }
   ],
   "source": [
    "#cta_21_gc= ascii.read(\"./dmbounds/bounds/cta/cta_2021_gc_ann_bb_sens.ecsv\")\n",
    "cta_21_gc= ascii.read(\"../dmbounds/bounds/cta/cta_2021_gc_ann_bb_sens.ecsv\")\n",
    "cta_21_gc_core= ascii.read(\"./cta_2021_gc_WW_core.ecsv\")\n",
    "cta_23_perseus= ascii.read(\"./cta_perseus_ksp_bb.csv\")\n",
    "hess_22_gc = ascii.read(\"../dmbounds/bounds/hess/hess_2022_gc_ann_bb.ecsv\")\n",
    "fermi_20_mdsph = ascii.read(\"../dmbounds/bounds/lat/lat_2020_multidsph_ann_bb_oneD_frequentist.ecsv\")  \n",
    "magic_20_mdsph = ascii.read(\"../dmbounds/bounds/magic/magic_2022_multidsph_ann_bb.ecsv\")               \n",
    "hess_12_fornax = ascii.read(\"../dmbounds/bounds/hess/hess_2012_fornaxcluster_ann_bb_nfwburkertsr10a10.ecsv\")\n",
    "hess_11_m15 = ascii.read(\"../dmbounds/bounds/hess/hess_2011_m15_ann_WW_final.ecsv\")\n",
    "\n",
    "collider_15 = ascii.read(\"../dmbounds/bounds/collider/collider_2015_atlascms_ann_bb.ecsv\")\n",
    "direct_15 = ascii.read(\"../dmbounds/bounds/directsearches/directsearches_2015_coupp_ann_bb.ecsv\")\n",
    "\n",
    "#stack_core = ascii.read(\"./dmbounds/bounds/temp/stack_burkert_bb.csv\")\n",
    "stack_cusp = ascii.read(\"stack_Wil1_and_CBe_Einasto_600h_bb.csv\")\n",
    "cta_lmc = ascii.read(\"cta_lmc_nfw_bb.ecsv\")\n",
    "cta_subhalo = ascii.read(\"cta_subhalo_bb.ecsv\")\n",
    "\n",
    "steigman = ascii.read(\"../dmbounds/modelpredictions/wimp_steigman2012_numerical.ecsv\")"
   ]
  },
  {
   "cell_type": "code",
   "execution_count": null,
   "metadata": {},
   "outputs": [],
   "source": [
    "plt.figure(figsize=(7,7))\n",
    "plt.xlabel(\"DM mass [TeV]\")\n",
    "plt.ylabel(r\"$\\langle\\sigma v \\rangle$ cm$^{-3}$ s$^{-1}$\")\n",
    "plt.xlim(1e-2,1e2)\n",
    "plt.ylim(1e-27,1e-22)\n",
    "#plt.title(r'Instruments reach')\n",
    "\n",
    "\n",
    "\n",
    "# Other instrument limits\n",
    "plt.loglog(fermi_20_mdsph['mass']*1e-3,fermi_20_mdsph['sigmav'],color='k',linestyle='dashdot',label=\"Fermi-LAT 2020 multidsph\")\n",
    "#plt.loglog(hess_12_fornax['mass'],hess_12_fornax['sigmav'],color='k',linestyle=(0, (1, 3)),label=\"HESS Fornax Cluster\")\n",
    "#plt.loglog(hess_11_m15['mass'],hess_11_m15['sigmav'],color='k',linestyle=(0, (1, 5)),label=\"HESS M15\")\n",
    "plt.loglog(collider_15['mass']*1e-3,collider_15['sigmav'],color='k',linestyle=(0, (1, 5)),label=\"ATLAS/CMS 2015\")\n",
    "plt.loglog(direct_15['mass']*1e-3,direct_15['sigmav'],color='k',linestyle=(0, (1, 1)),label=\"Coupp 2015\")\n",
    "\n",
    "# Other CTA limits\n",
    "plt.loglog(cta_lmc['mass']*1e-3,cta_lmc['sigmav'], color='tab:cyan',linestyle='dashdot',linewidth=1,\n",
    "           label=\"CTA LMC [340h]\")\n",
    "plt.loglog(cta_21_gc['mass']*1e-3,cta_21_gc['sigmav'],color='tab:cyan',linestyle='solid', linewidth=1,\n",
    "           label=\"CTA 2021 GC Cusp [500h]\")\n",
    "#plt.loglog(cta_21_gc_core['mass']*1e-3,cta_21_gc_core['sigmav'],color='tab:cyan',linestyle='dashed', linewidth=1,\n",
    "           label=\"CTA 2021 GC Core (WW [500h]\")\n",
    "plt.loglog(cta_subhalo['mass']*1e-3,cta_subhalo['sigmav'], color='tab:blue',linestyle='dashdot',linewidth=1,\n",
    "           label=\"CTA subhaloes [10y]\")\n",
    "\n",
    "#plt.loglog(cta_21_gc_core['mass']*1e-3,cta_21_gc_core['sigmav'],color='tab:orange',linestyle='dotted',label=\"CTA 2021 GC Core\")\n",
    "plt.loglog(cta_23_perseus['mass'],cta_23_perseus['sigmav'],color='tab:blue',linestyle='dotted', linewidth=1,\n",
    "           label=\"CTA 2023 Perseus [300h]\")\n",
    "\n",
    "\n",
    "\n",
    "# This work\n",
    "#plt.loglog(stack_core['mass']*1e-3,stack_core['sigmav'],label=\"Sgr2+CBe Core (this work)\", linewidth=2)\n",
    "plt.loglog(stack_cusp['mass']*1e-3,stack_cusp['sigmav'],label=\"CTA dSphs [600h, this work]\", linewidth=3)\n",
    "\n",
    "# Steigman reference\n",
    "#plt.loglog(steigman['mass']*1e-3,steigman['sigmav'],color='tab:purple',label=\"Steigman 2020\")\n",
    "plt.fill_between(steigman['mass']*1e-3, 1e-28, steigman['sigmav'],color='tab:purple',alpha=0.2,label=\"Steigman 2020\")\n",
    "\n",
    "\n",
    "plt.grid()\n",
    "plt.legend(loc=\"best\",ncol=2)\n",
    "\n",
    "plt.savefig(\"compare_cta_target_bb.eps\")\n",
    "plt.savefig(\"compare_cta_target_bb.pdf\")\n",
    "plt.savefig(\"compare_cta_target_bb.png\")"
   ]
  },
  {
   "cell_type": "code",
   "execution_count": null,
   "metadata": {},
   "outputs": [],
   "source": []
  },
  {
   "cell_type": "code",
   "execution_count": null,
   "metadata": {},
   "outputs": [],
   "source": []
  },
  {
   "cell_type": "code",
   "execution_count": null,
   "metadata": {},
   "outputs": [],
   "source": []
  },
  {
   "cell_type": "code",
   "execution_count": null,
   "metadata": {},
   "outputs": [],
   "source": []
  },
  {
   "cell_type": "code",
   "execution_count": null,
   "metadata": {},
   "outputs": [],
   "source": []
  },
  {
   "cell_type": "markdown",
   "metadata": {},
   "source": [
    "You can load all metadata in the database into a Pandas dataframe:"
   ]
  },
  {
   "cell_type": "code",
   "execution_count": 2,
   "metadata": {},
   "outputs": [],
   "source": [
    "metadata_all = bounds.metadata()"
   ]
  },
  {
   "cell_type": "markdown",
   "metadata": {},
   "source": [
    "If you want to filter the metadata, there are two ways:\n",
    "1. The metadata can filtered interactively by a drop-down menu (shown in the following).\n",
    "2. Using pandas syntax (shown further below.)\n",
    "\n",
    "Filtering the data interactively has to be done in two subsequent cell executions. First, the interactive selection is called:"
   ]
  },
  {
   "cell_type": "code",
   "execution_count": null,
   "metadata": {},
   "outputs": [],
   "source": [
    "selection = bounds.interactive_selection()"
   ]
  },
  {
   "cell_type": "markdown",
   "metadata": {},
   "source": [
    "Secondly, once the interactive selection of limits is done, a filtered pandas dataframe is created:"
   ]
  },
  {
   "cell_type": "code",
   "execution_count": 7,
   "metadata": {},
   "outputs": [],
   "source": [
    "metadata_filtered = bounds.filter_metadata(selection)"
   ]
  },
  {
   "cell_type": "markdown",
   "metadata": {},
   "source": [
    "The Pandas dataframe can be displayed in HTML including clickable weblinks with `show_metadata()`:"
   ]
  },
  {
   "cell_type": "code",
   "execution_count": null,
   "metadata": {},
   "outputs": [],
   "source": [
    "bounds.show_metadata(metadata_filtered)"
   ]
  },
  {
   "cell_type": "code",
   "execution_count": 14,
   "metadata": {},
   "outputs": [],
   "source": [
    "from cycler import cycler\n",
    "default_cycler = (cycler(color=['r', 'g', 'b', 'y']) +\n",
    "                  cycler(linestyle=['-', '--', ':', '-.']))"
   ]
  },
  {
   "cell_type": "markdown",
   "metadata": {},
   "source": [
    "You can retrieve a matplotlib figure from the filtered dataframe with the following method. Note that currently, only ten curves can be plotted simultaneously:"
   ]
  },
  {
   "cell_type": "code",
   "execution_count": null,
   "metadata": {},
   "outputs": [],
   "source": [
    "style = bounds.PlottingStyle('standard', legend='side')\n",
    "style.ymin = 1e-26\n",
    "style.ymax = 1e-21\n",
    "fig1, ax1 = bounds.plot(metadata_filtered, style);\n",
    "ax1.set_xlim([5e-2, 1e2])\n",
    "\n",
    "children = ax1.get_children()\n",
    "children[1].set_color('k')\n",
    "children[2].set_color('k')\n",
    "children[3].set_color('k')\n",
    "children[4].set_color('k')\n",
    "children[5].set_color('k')\n",
    "children[1].set_linestyle('dashed')\n",
    "children[2].set_linestyle('dotted')\n",
    "children[3].set_linestyle('dashdot')\n",
    "children[4].set_linestyle((0, (1, 10)))\n",
    "children[5].set_linestyle((0, (1, 1)))\n",
    "\n",
    "fig1.show(True)\n",
    "fig1.legend()"
   ]
  },
  {
   "cell_type": "markdown",
   "metadata": {},
   "source": [
    "The second way to filter the metadata is is to use pandas syntax for a \"static filtering\". This might be useful for a reproducible plotting script:"
   ]
  },
  {
   "cell_type": "code",
   "execution_count": null,
   "metadata": {},
   "outputs": [],
   "source": [
    "include_by_arxiv_ids = ['1110.1529', '1804.00628']\n",
    "exclude_by_targets = ['fornaxcluster']\n",
    "exclude_by_comments = ['MIN model', 'MAX model']\n",
    "metadata_filtered = metadata_all.loc[(metadata_all['Arxiv'].isin(include_by_arxiv_ids)) \\\n",
    "                                     & (metadata_all['Channel'] == 'bb') \\\n",
    "                                     & (metadata_all['Mode'] == 'ann') \\\n",
    "                                     & (~metadata_all['Target'].isin(exclude_by_targets)) \\\n",
    "                                     & (~metadata_all['Comment'].isin(exclude_by_comments))\n",
    "                                    ]\n",
    "display(bounds.show_metadata(metadata_filtered))\n",
    "bounds.plot(metadata_filtered);"
   ]
  },
  {
   "cell_type": "markdown",
   "metadata": {},
   "source": [
    "You can define your own style for the figure:"
   ]
  },
  {
   "cell_type": "code",
   "execution_count": null,
   "metadata": {},
   "outputs": [],
   "source": [
    "style = bounds.PlottingStyle('antique', legend='fancy')\n",
    "fig2, ax2 = bounds.plot(metadata_filtered, style)"
   ]
  },
  {
   "cell_type": "markdown",
   "metadata": {},
   "source": [
    "You can scale the axes or modify the colors:"
   ]
  },
  {
   "cell_type": "code",
   "execution_count": null,
   "metadata": {},
   "outputs": [],
   "source": [
    "style.ymin = 1e-26\n",
    "style.ymax = 1e-21\n",
    "style.color_cycle = ['orange',3]\n",
    "fig2, ax2 = bounds.plot(metadata_filtered, style);"
   ]
  },
  {
   "cell_type": "markdown",
   "metadata": {},
   "source": [
    "You can also manually modify the matplotlib figure. However, you might have to modify each element individually to fit again, see e.g.:"
   ]
  },
  {
   "cell_type": "code",
   "execution_count": null,
   "metadata": {},
   "outputs": [],
   "source": [
    "ax2.set_ylim([1e-26,5e-22]);\n",
    "fig2"
   ]
  },
  {
   "cell_type": "markdown",
   "metadata": {},
   "source": [
    "So let's move the label again to a suitable position:"
   ]
  },
  {
   "cell_type": "code",
   "execution_count": null,
   "metadata": {},
   "outputs": [],
   "source": [
    "import matplotlib\n",
    "children = ax2.get_children()\n",
    "texts = [element for element in children if isinstance(element, matplotlib.text.Text)]\n",
    "texts"
   ]
  },
  {
   "cell_type": "code",
   "execution_count": null,
   "metadata": {},
   "outputs": [],
   "source": [
    "for text in texts[:2]:\n",
    "    text.set_position((text.get_position()[0], 0.95 * 5e-22))\n",
    "fig2"
   ]
  },
  {
   "cell_type": "markdown",
   "metadata": {},
   "source": [
    "You can retrieve the data with the following command:"
   ]
  },
  {
   "cell_type": "code",
   "execution_count": null,
   "metadata": {},
   "outputs": [],
   "source": [
    "data = bounds.get_data(metadata_filtered)\n",
    "display(bounds.show_metadata(metadata_filtered.iloc[[0]]))\n",
    "display(data[0])"
   ]
  },
  {
   "cell_type": "markdown",
   "metadata": {},
   "source": [
    "Finally, save the figure in desired format and resolution:"
   ]
  },
  {
   "cell_type": "code",
   "execution_count": null,
   "metadata": {},
   "outputs": [],
   "source": [
    "fig2.savefig(\"test.png\", format='png', dpi=300, bbox_inches=\"tight\")"
   ]
  }
 ],
 "metadata": {
  "kernelspec": {
   "display_name": "Python 3 (ipykernel)",
   "language": "python",
   "name": "python3"
  },
  "language_info": {
   "codemirror_mode": {
    "name": "ipython",
    "version": 3
   },
   "file_extension": ".py",
   "mimetype": "text/x-python",
   "name": "python",
   "nbconvert_exporter": "python",
   "pygments_lexer": "ipython3",
   "version": "3.10.13"
  }
 },
 "nbformat": 4,
 "nbformat_minor": 4
}
