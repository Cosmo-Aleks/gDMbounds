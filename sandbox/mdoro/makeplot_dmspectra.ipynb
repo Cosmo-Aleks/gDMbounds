{
 "cells": [
  {
   "cell_type": "markdown",
   "metadata": {},
   "source": [
    "# Plot dark matter spectra\n",
    "This notebook describes how to generate DM annihilation spectra with `gammapy`. Display DM spectra using `gammapy` and the PPPC models from M.Cirelli, G.Corcella, A.Hektor, G.Hütsi, M.Kadastik, P.Panci, M.Raidal, F.Sala, A.Strumia, \"PPPC 4 DM ID: A Poor Particle Physicist Cookbook for Dark Matter Indirect Detection'', arXiv 1012.4515, JCAP 1103 (2011) 051. Erratum: JCAP 1210 (2012) E01.\n",
    "\n",
    "Authors:  Michele Doro michele.doro@unipd.it\n",
    "\n",
    "Last update: 2024.03.04"
   ]
  },
  {
   "cell_type": "markdown",
   "metadata": {},
   "source": [
    "#### General imports"
   ]
  },
  {
   "cell_type": "code",
   "execution_count": null,
   "metadata": {},
   "outputs": [],
   "source": [
    "import numpy as np\n",
    "import matplotlib.pyplot as plt\n",
    "from matplotlib.colors import LogNorm\n",
    "import astropy.units as u\n",
    "%matplotlib inline"
   ]
  },
  {
   "cell_type": "code",
   "execution_count": null,
   "metadata": {},
   "outputs": [],
   "source": [
    "# This al\n",
    "!gammapy info"
   ]
  },
  {
   "cell_type": "code",
   "execution_count": null,
   "metadata": {},
   "outputs": [],
   "source": [
    "# Import gammapy methods to display DM spectra\n",
    "from gammapy.astro.darkmatter import (\n",
    "    profiles,\n",
    "    JFactory,\n",
    "    PrimaryFlux,\n",
    "    DarkMatterAnnihilationSpectralModel,\n",
    ")"
   ]
  },
  {
   "cell_type": "markdown",
   "metadata": {},
   "source": [
    "#### Check possible fluxes"
   ]
  },
  {
   "cell_type": "code",
   "execution_count": null,
   "metadata": {},
   "outputs": [],
   "source": [
    "# Add the file manually (or do `gammapy download datasets`\n",
    "PrimaryFlux.table_filename = \"../AtProduction_gammas.dat\"\n",
    "\n",
    "# To check all available channels \n",
    "fluxes = PrimaryFlux(mDM=\"1 TeV\", channel=\"b\")\n",
    "print(fluxes.allowed_channels)"
   ]
  },
  {
   "cell_type": "markdown",
   "metadata": {},
   "source": [
    "#### Plot image"
   ]
  },
  {
   "cell_type": "code",
   "execution_count": null,
   "metadata": {},
   "outputs": [],
   "source": [
    "fig, axes = plt.subplots(1, 3, figsize=(13, 4))\n",
    "mDMs = [0.5, 5, 50] * u.TeV\n",
    "\n",
    "labels = [r'$b\\bar{b}$', r'$\\tau^+\\tau^-$',r'$W^+W^-$',r'$\\mu^+\\mu^-$' ]\n",
    "linestyles = ['-', '--', 'dotted','dashdot']\n",
    "linewidths = [2,2,1,1]\n",
    "colors = ['tab:blue','tab:orange','black','black']\n",
    "channels = [\"b\", \"tau\", \"W\", \"mu\"]\n",
    "# and so on\n",
    "\n",
    "# zip it for the loop\n",
    "for mDM, ax in zip(mDMs, axes):\n",
    "    fluxes.mDM = mDM\n",
    "    ax.set_title(rf\"m$_{{\\mathrm{{DM}}}}$ = {mDM}\")\n",
    "    ax.set_yscale(\"log\")\n",
    "    \n",
    "    for channel, label, linestyle, linewidth, color in zip(channels, labels, linestyles, linewidths, colors):\n",
    "        fluxes.channel = channel\n",
    "        fluxes.table_model.plot(\n",
    "            energy_bounds=[mDM / 100, mDM],\n",
    "            ax=ax,\n",
    "            label=label, \n",
    "            linestyle=linestyle,\n",
    "            linewidth=linewidth,\n",
    "            color=color,\n",
    "            yunits=u.Unit(\"TeV\"), # Must be set\n",
    "            sed_type=\"e2dnde\",\n",
    "        )\n",
    "\n",
    "# Set legend and label only on first pad\n",
    "axes[0].legend()\n",
    "axes[0].set_ylabel(f\"E$^2\\,dN/dE$ [TeV]\")\n",
    "axes[1].set_ylabel(f\"\")\n",
    "axes[2].set_ylabel(f\"\")\n",
    "\n",
    "plt.tight_layout()\n",
    "plt.subplots_adjust(wspace=0.2)\n",
    "plt.subplots_adjust(hspace=0.3)\n",
    "#plt.savefig('plot_dm_spectra.png')"
   ]
  },
  {
   "cell_type": "code",
   "execution_count": null,
   "metadata": {},
   "outputs": [],
   "source": []
  }
 ],
 "metadata": {
  "kernelspec": {
   "display_name": "Python 3 (ipykernel)",
   "language": "python",
   "name": "python3"
  },
  "language_info": {
   "codemirror_mode": {
    "name": "ipython",
    "version": 3
   },
   "file_extension": ".py",
   "mimetype": "text/x-python",
   "name": "python",
   "nbconvert_exporter": "python",
   "pygments_lexer": "ipython3",
   "version": "3.11.8"
  }
 },
 "nbformat": 4,
 "nbformat_minor": 4
}
